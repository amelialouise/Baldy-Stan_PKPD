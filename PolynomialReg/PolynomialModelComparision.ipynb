{
 "cells": [
  {
   "cell_type": "code",
   "execution_count": 2,
   "metadata": {},
   "outputs": [],
   "source": [
    "import os\n",
    "import sys\n",
    "import time\n",
    "import re\n",
    "import numpy as np\n",
    "from numpy import *\n",
    "from pylab import *\n",
    "from scipy import *\n",
    "from matplotlib.pyplot import *\n",
    "import matplotlib.pyplot as plt\n",
    "\n",
    "\n",
    "import stan"
   ]
  },
  {
   "cell_type": "code",
   "execution_count": 1,
   "metadata": {},
   "outputs": [],
   "source": [
    "from mpl_toolkits.mplot3d import Axes3D\n",
    "import matplotlib.colors as mcolors\n",
    "from IPython.display import HTML"
   ]
  },
  {
   "cell_type": "code",
   "execution_count": 3,
   "metadata": {},
   "outputs": [],
   "source": [
    "%matplotlib inline"
   ]
  },
  {
   "cell_type": "code",
   "execution_count": 5,
   "metadata": {},
   "outputs": [],
   "source": [
    "Mainpath = '/home/meysam/WorkLinux/PolynomialModelComparision/PolynomialsCompareModels/'"
   ]
  },
  {
   "cell_type": "markdown",
   "metadata": {},
   "source": [
    "In this toy example, we first generate a synthetic data  using a second-order polynomial and we then fit different models  (polynomials order 1,2, 3, and 5) in order to see which model best explains the generated data."
   ]
  },
  {
   "cell_type": "markdown",
   "metadata": {},
   "source": [
    "# Generate Synthetic Data"
   ]
  },
  {
   "cell_type": "code",
   "execution_count": 6,
   "metadata": {},
   "outputs": [],
   "source": [
    "a = 5\n",
    "b = 5\n",
    "c=5\n",
    "sigma=1\n",
    "random.seed(11442)\n",
    "noise =sigma * randn() "
   ]
  },
  {
   "cell_type": "code",
   "execution_count": 7,
   "metadata": {},
   "outputs": [],
   "source": [
    "nt = 100\n",
    "t = linspace(-5, 5, nt)\n",
    "y = a*(t**2)+b*t+c\n",
    "y_model = y+sigma*randn(y.size)"
   ]
  },
  {
   "cell_type": "code",
   "execution_count": 8,
   "metadata": {},
   "outputs": [],
   "source": [
    "nt_outl=2\n",
    "t_outl=linspace(5, 6, nt_outl)\n",
    "y_outl=35*t_outl"
   ]
  },
  {
   "cell_type": "code",
   "execution_count": 9,
   "metadata": {},
   "outputs": [],
   "source": [
    "nt_obs=nt+nt_outl\n",
    "t_obs=concatenate((t,t_outl), axis=0)\n",
    "yobs=concatenate((y_model,y_outl), axis=0)"
   ]
  },
  {
   "cell_type": "code",
   "execution_count": 10,
   "metadata": {},
   "outputs": [
    {
     "data": {
      "image/png": "[encoded data removed]",
      "text/plain": [
       "<Figure size 432x288 with 1 Axes>"
      ]
     },
     "metadata": {
      "needs_background": "light"
     },
     "output_type": "display_data"
    }
   ],
   "source": [
    "figure(figsize=(6, 4))\n",
    "plot(t_obs,yobs,'r*', label=' Synthetic data' )\n",
    "plot(t,y, color='b', linewidth=2.0, label='True signal')\n",
    "xlabel(\"index\")\n",
    "ylabel(\"y\")\n",
    "title('True signal vs Synthetic data')\n",
    "legend()\n",
    "tight_layout()\n",
    "show() "
   ]
  },
  {
   "cell_type": "markdown",
   "metadata": {},
   "source": [
    "\n",
    "\n",
    "# Save Data to run Stan"
   ]
  },
  {
   "cell_type": "code",
   "execution_count": 11,
   "metadata": {},
   "outputs": [],
   "source": [
    "! mkdir -p  data_input_files"
   ]
  },
  {
   "cell_type": "code",
   "execution_count": 12,
   "metadata": {},
   "outputs": [
    {
     "ename": "FileNotFoundError",
     "evalue": "[Errno 2] No such file or directory: '/home/meysam/WorkLinux/PolynomialModelComparision/PolynomialsCompareModels//data_input_files/data_input.R.npz'",
     "output_type": "error",
     "traceback": [
      "\u001b[0;31m---------------------------------------------------------------------------\u001b[0m",
      "\u001b[0;31mFileNotFoundError\u001b[0m                         Traceback (most recent call last)",
      "Input \u001b[0;32mIn [12]\u001b[0m, in \u001b[0;36m<cell line: 9>\u001b[0;34m()\u001b[0m\n\u001b[1;32m      5\u001b[0m npz \u001b[38;5;241m=\u001b[39m {\u001b[38;5;124m'\u001b[39m\u001b[38;5;124mnd\u001b[39m\u001b[38;5;124m'\u001b[39m: nd}\n\u001b[1;32m      6\u001b[0m npz\u001b[38;5;241m.\u001b[39mupdate(data_input)\n\u001b[0;32m----> 9\u001b[0m \u001b[43mnp\u001b[49m\u001b[38;5;241;43m.\u001b[39;49m\u001b[43msavez\u001b[49m\u001b[43m(\u001b[49m\u001b[43mMainpath\u001b[49m\u001b[38;5;241;43m+\u001b[39;49m\u001b[38;5;124;43m'\u001b[39;49m\u001b[38;5;124;43m/data_input_files/\u001b[39;49m\u001b[38;5;124;43m'\u001b[39;49m\u001b[38;5;241;43m+\u001b[39;49m\u001b[38;5;124;43m'\u001b[39;49m\u001b[38;5;124;43mdata_input.R.npz\u001b[39;49m\u001b[38;5;124;43m'\u001b[39;49m\u001b[43m,\u001b[49m\u001b[43m \u001b[49m\u001b[38;5;241;43m*\u001b[39;49m\u001b[38;5;241;43m*\u001b[39;49m\u001b[43mnpz\u001b[49m\u001b[43m)\u001b[49m\n\u001b[1;32m     10\u001b[0m np\u001b[38;5;241m.\u001b[39msavez(Mainpath\u001b[38;5;241m+\u001b[39m\u001b[38;5;124m'\u001b[39m\u001b[38;5;124m/data_input_files/\u001b[39m\u001b[38;5;124m'\u001b[39m\u001b[38;5;241m+\u001b[39m\u001b[38;5;124m'\u001b[39m\u001b[38;5;124mdata_input.npz\u001b[39m\u001b[38;5;124m'\u001b[39m, \u001b[38;5;241m*\u001b[39m\u001b[38;5;241m*\u001b[39mnpz)\n\u001b[1;32m     11\u001b[0m pystan\u001b[38;5;241m.\u001b[39mstan_rdump(data_input, Mainpath\u001b[38;5;241m+\u001b[39m\u001b[38;5;124m'\u001b[39m\u001b[38;5;124m/data_input_files/\u001b[39m\u001b[38;5;124m'\u001b[39m\u001b[38;5;241m+\u001b[39m\u001b[38;5;124m'\u001b[39m\u001b[38;5;124mdata_input.R\u001b[39m\u001b[38;5;124m'\u001b[39m)\n",
      "File \u001b[0;32m<__array_function__ internals>:180\u001b[0m, in \u001b[0;36msavez\u001b[0;34m(*args, **kwargs)\u001b[0m\n",
      "File \u001b[0;32m~/anaconda3/lib/python3.8/site-packages/numpy/lib/npyio.py:612\u001b[0m, in \u001b[0;36msavez\u001b[0;34m(file, *args, **kwds)\u001b[0m\n\u001b[1;32m    528\u001b[0m \u001b[38;5;129m@array_function_dispatch\u001b[39m(_savez_dispatcher)\n\u001b[1;32m    529\u001b[0m \u001b[38;5;28;01mdef\u001b[39;00m \u001b[38;5;21msavez\u001b[39m(file, \u001b[38;5;241m*\u001b[39margs, \u001b[38;5;241m*\u001b[39m\u001b[38;5;241m*\u001b[39mkwds):\n\u001b[1;32m    530\u001b[0m     \u001b[38;5;124;03m\"\"\"Save several arrays into a single file in uncompressed ``.npz`` format.\u001b[39;00m\n\u001b[1;32m    531\u001b[0m \n\u001b[1;32m    532\u001b[0m \u001b[38;5;124;03m    Provide arrays as keyword arguments to store them under the\u001b[39;00m\n\u001b[0;32m   (...)\u001b[0m\n\u001b[1;32m    610\u001b[0m \n\u001b[1;32m    611\u001b[0m \u001b[38;5;124;03m    \"\"\"\u001b[39;00m\n\u001b[0;32m--> 612\u001b[0m     \u001b[43m_savez\u001b[49m\u001b[43m(\u001b[49m\u001b[43mfile\u001b[49m\u001b[43m,\u001b[49m\u001b[43m \u001b[49m\u001b[43margs\u001b[49m\u001b[43m,\u001b[49m\u001b[43m \u001b[49m\u001b[43mkwds\u001b[49m\u001b[43m,\u001b[49m\u001b[43m \u001b[49m\u001b[38;5;28;43;01mFalse\u001b[39;49;00m\u001b[43m)\u001b[49m\n",
      "File \u001b[0;32m~/anaconda3/lib/python3.8/site-packages/numpy/lib/npyio.py:709\u001b[0m, in \u001b[0;36m_savez\u001b[0;34m(file, args, kwds, compress, allow_pickle, pickle_kwargs)\u001b[0m\n\u001b[1;32m    706\u001b[0m \u001b[38;5;28;01melse\u001b[39;00m:\n\u001b[1;32m    707\u001b[0m     compression \u001b[38;5;241m=\u001b[39m zipfile\u001b[38;5;241m.\u001b[39mZIP_STORED\n\u001b[0;32m--> 709\u001b[0m zipf \u001b[38;5;241m=\u001b[39m \u001b[43mzipfile_factory\u001b[49m\u001b[43m(\u001b[49m\u001b[43mfile\u001b[49m\u001b[43m,\u001b[49m\u001b[43m \u001b[49m\u001b[43mmode\u001b[49m\u001b[38;5;241;43m=\u001b[39;49m\u001b[38;5;124;43m\"\u001b[39;49m\u001b[38;5;124;43mw\u001b[39;49m\u001b[38;5;124;43m\"\u001b[39;49m\u001b[43m,\u001b[49m\u001b[43m \u001b[49m\u001b[43mcompression\u001b[49m\u001b[38;5;241;43m=\u001b[39;49m\u001b[43mcompression\u001b[49m\u001b[43m)\u001b[49m\n\u001b[1;32m    711\u001b[0m \u001b[38;5;28;01mfor\u001b[39;00m key, val \u001b[38;5;129;01min\u001b[39;00m namedict\u001b[38;5;241m.\u001b[39mitems():\n\u001b[1;32m    712\u001b[0m     fname \u001b[38;5;241m=\u001b[39m key \u001b[38;5;241m+\u001b[39m \u001b[38;5;124m'\u001b[39m\u001b[38;5;124m.npy\u001b[39m\u001b[38;5;124m'\u001b[39m\n",
      "File \u001b[0;32m~/anaconda3/lib/python3.8/site-packages/numpy/lib/npyio.py:101\u001b[0m, in \u001b[0;36mzipfile_factory\u001b[0;34m(file, *args, **kwargs)\u001b[0m\n\u001b[1;32m     99\u001b[0m \u001b[38;5;28;01mimport\u001b[39;00m \u001b[38;5;21;01mzipfile\u001b[39;00m\n\u001b[1;32m    100\u001b[0m kwargs[\u001b[38;5;124m'\u001b[39m\u001b[38;5;124mallowZip64\u001b[39m\u001b[38;5;124m'\u001b[39m] \u001b[38;5;241m=\u001b[39m \u001b[38;5;28;01mTrue\u001b[39;00m\n\u001b[0;32m--> 101\u001b[0m \u001b[38;5;28;01mreturn\u001b[39;00m \u001b[43mzipfile\u001b[49m\u001b[38;5;241;43m.\u001b[39;49m\u001b[43mZipFile\u001b[49m\u001b[43m(\u001b[49m\u001b[43mfile\u001b[49m\u001b[43m,\u001b[49m\u001b[43m \u001b[49m\u001b[38;5;241;43m*\u001b[39;49m\u001b[43margs\u001b[49m\u001b[43m,\u001b[49m\u001b[43m \u001b[49m\u001b[38;5;241;43m*\u001b[39;49m\u001b[38;5;241;43m*\u001b[39;49m\u001b[43mkwargs\u001b[49m\u001b[43m)\u001b[49m\n",
      "File \u001b[0;32m~/anaconda3/lib/python3.8/zipfile.py:1251\u001b[0m, in \u001b[0;36mZipFile.__init__\u001b[0;34m(self, file, mode, compression, allowZip64, compresslevel, strict_timestamps)\u001b[0m\n\u001b[1;32m   1249\u001b[0m \u001b[38;5;28;01mwhile\u001b[39;00m \u001b[38;5;28;01mTrue\u001b[39;00m:\n\u001b[1;32m   1250\u001b[0m     \u001b[38;5;28;01mtry\u001b[39;00m:\n\u001b[0;32m-> 1251\u001b[0m         \u001b[38;5;28mself\u001b[39m\u001b[38;5;241m.\u001b[39mfp \u001b[38;5;241m=\u001b[39m \u001b[43mio\u001b[49m\u001b[38;5;241;43m.\u001b[39;49m\u001b[43mopen\u001b[49m\u001b[43m(\u001b[49m\u001b[43mfile\u001b[49m\u001b[43m,\u001b[49m\u001b[43m \u001b[49m\u001b[43mfilemode\u001b[49m\u001b[43m)\u001b[49m\n\u001b[1;32m   1252\u001b[0m     \u001b[38;5;28;01mexcept\u001b[39;00m \u001b[38;5;167;01mOSError\u001b[39;00m:\n\u001b[1;32m   1253\u001b[0m         \u001b[38;5;28;01mif\u001b[39;00m filemode \u001b[38;5;129;01min\u001b[39;00m modeDict:\n",
      "\u001b[0;31mFileNotFoundError\u001b[0m: [Errno 2] No such file or directory: '/home/meysam/WorkLinux/PolynomialModelComparision/PolynomialsCompareModels//data_input_files/data_input.R.npz'"
     ]
    }
   ],
   "source": [
    "data_input= {'nt': nt_obs, 't': t_obs, 'yobs': yobs}\n",
    "\n",
    "\n",
    "nd=[]\n",
    "npz = {'nd': nd}\n",
    "npz.update(data_input)\n",
    "\n",
    "\n",
    "np.savez(Mainpath+'/data_input_files/'+'data_input.R.npz', **npz)\n",
    "np.savez(Mainpath+'/data_input_files/'+'data_input.npz', **npz)\n",
    "pystan.stan_rdump(data_input, Mainpath+'/data_input_files/'+'data_input.R')\n"
   ]
  },
  {
   "cell_type": "code",
   "execution_count": null,
   "metadata": {},
   "outputs": [],
   "source": [
    "data_input = dict(load(Mainpath+'/data_input_files/'+'data_input.R.npz'))"
   ]
  },
  {
   "cell_type": "code",
   "execution_count": null,
   "metadata": {},
   "outputs": [],
   "source": [
    "#data = pystan.read_rdump('data.R')\n",
    "# savez('data_input.npz', **npz)\n",
    "# savez('data_input.R.npz', **npz)\n",
    "# pystan.stan_rdump(data_input, 'data_input.R')"
   ]
  },
  {
   "cell_type": "markdown",
   "metadata": {},
   "source": [
    "Stan does not automatically compute and store the log-likelihood. It is up to the user to incorporate it into the Stan program if it is to be extracted after fitting the model. In a Stan model, the pointwise log likelihood can be coded as a vector in the transformed parameters block (and then summed up in the model block) or it can be coded entirely in the generated quantities block. We recommend using the generated quantities block so that the computations are carried out only once per iteration rather than once per HMC leapfrog step. \n",
    "\n",
    "\n",
    "log_lik[i] = normal_lpdf(data[i] | model[i], sd)\n",
    " \n",
    " \n",
    "Value: An S by N matrix of (post-warmup) extracted draws, where S is the size of the posterior sample and N is the number of data points. "
   ]
  },
  {
   "cell_type": "markdown",
   "metadata": {},
   "source": [
    "# Fit Polynomial order 1"
   ]
  },
  {
   "cell_type": "code",
   "execution_count": null,
   "metadata": {},
   "outputs": [],
   "source": [
    "model_poly1 = open('model_poly1.stan').read()    \n",
    "print(model_poly1)\n",
    "\n",
    "\n",
    "# with open('model_poly1.stan', 'r') as file:\n",
    "#     print(file.read())\n",
    "# model =pystan.StanModel(file='model_poly2.stan')"
   ]
  },
  {
   "cell_type": "code",
   "execution_count": null,
   "metadata": {},
   "outputs": [],
   "source": [
    "tic=time.time()\n",
    "model1 =pystan.StanModel(model_code=model_poly1) \n",
    "print(time.time()- tic, 'second is required to run')"
   ]
  },
  {
   "cell_type": "code",
   "execution_count": null,
   "metadata": {},
   "outputs": [],
   "source": [
    "alg_type = \"hmc\""
   ]
  },
  {
   "cell_type": "code",
   "execution_count": null,
   "metadata": {},
   "outputs": [],
   "source": [
    "tic=time.time()\n",
    "\n",
    "if alg_type == \"hmc\":\n",
    "            fit1 = model1.sampling(data=data_input, algorithm='NUTS', iter=2000,  warmup=500, \n",
    "                      control=dict(adapt_delta=0.85), chains=1, n_jobs=-1, verbose=True, refresh=500) \n",
    "else: \n",
    "            fit1 = model1.vb(data=data_input, algorithm='meanfield',  iter=1e+5,  tol_rel_obj=1e-5, \n",
    "                             elbo_samples=1000 , output_samples=1000, verbose=True)\n",
    "\n",
    "print(time.time() - tic, 'second is required to run')"
   ]
  },
  {
   "cell_type": "code",
   "execution_count": null,
   "metadata": {},
   "outputs": [],
   "source": [
    "fit1.plot()\n",
    "show()\n",
    "print (fit1)"
   ]
  },
  {
   "cell_type": "code",
   "execution_count": null,
   "metadata": {},
   "outputs": [],
   "source": [
    "Rhat=fit1.summary()['summary'][:, -1]\n",
    "R_norm=sum(Rhat)/Rhat.size\n",
    "print('Normalized R=', float(R_norm))\n",
    "plt.figure(figsize=(5,4))\n",
    "plt.hist(Rhat);\n",
    "xlabel('R value')\n",
    "ylabel('Count')\n",
    "title(r'$\\hat R$');\n",
    "show()"
   ]
  },
  {
   "cell_type": "code",
   "execution_count": null,
   "metadata": {},
   "outputs": [],
   "source": [
    "traces=fit1.extract(permuted=True)"
   ]
  },
  {
   "cell_type": "code",
   "execution_count": null,
   "metadata": {},
   "outputs": [],
   "source": [
    "p_l,p_h =percentile(traces['p'], [2.5,97.5], axis=0)\n",
    "p_est=mean(traces['p'], axis=0)"
   ]
  },
  {
   "cell_type": "code",
   "execution_count": null,
   "metadata": {},
   "outputs": [],
   "source": [
    "Np=traces['p'].shape[1]"
   ]
  },
  {
   "cell_type": "code",
   "execution_count": null,
   "metadata": {},
   "outputs": [],
   "source": [
    "figure(figsize=(12,3))\n",
    "for i in range(Np):\n",
    "     subplot(1, Np, i + 1)  \n",
    "     hist(traces['p'][:,i], bins=10);\n",
    "     axvline(p_est[i], color='r')\n",
    "     title(f'p_{i}') \n",
    "show()"
   ]
  },
  {
   "cell_type": "code",
   "execution_count": null,
   "metadata": {},
   "outputs": [],
   "source": [
    "y_fit= polyval(p_est[::-1], t_obs)\n",
    "y_fit_l=polyval(p_l[::-1], t_obs)\n",
    "y_fit_h=polyval(p_h[::-1], t_obs)"
   ]
  },
  {
   "cell_type": "code",
   "execution_count": null,
   "metadata": {},
   "outputs": [],
   "source": [
    "#y_fit1 = p1_est*pow(t,1)+p0_est*pow(t,0)"
   ]
  },
  {
   "cell_type": "code",
   "execution_count": null,
   "metadata": {},
   "outputs": [],
   "source": [
    "figure(figsize=(6, 4))\n",
    "\n",
    "plot(t,y, color='b', linewidth=2.0, label='True signal')\n",
    "plot(t_obs, yobs,'r*', label=' Synthetic data' )\n",
    "plot(t_obs, y_fit,'g--o', label='fitted signal' )\n",
    "fill_between(t_obs, y_fit_l, y_fit_h, alpha=0.2, facecolor='g', edgecolor='none')\n",
    "\n",
    "xlabel(\"index\")\n",
    "ylabel(\"y\")\n",
    "title('Model 1')\n",
    "legend()\n",
    "tight_layout()\n",
    "show() "
   ]
  },
  {
   "cell_type": "markdown",
   "metadata": {},
   "source": [
    "# Fit Polynomial order 2\n"
   ]
  },
  {
   "cell_type": "code",
   "execution_count": null,
   "metadata": {},
   "outputs": [],
   "source": [
    "model_poly2 = open('model_poly2.stan').read()    \n",
    "print(model_poly2)"
   ]
  },
  {
   "cell_type": "code",
   "execution_count": null,
   "metadata": {},
   "outputs": [],
   "source": [
    "tic=time.time()\n",
    "model2 =pystan.StanModel(model_code=model_poly2) \n",
    "print(time.time()- tic, 'second is required to run')"
   ]
  },
  {
   "cell_type": "code",
   "execution_count": null,
   "metadata": {},
   "outputs": [],
   "source": [
    "fit2 = model2.sampling(data=data_input, iter=2000, warmup=500, chains=1, n_jobs=-1, verbose=True, refresh=10)    "
   ]
  },
  {
   "cell_type": "code",
   "execution_count": null,
   "metadata": {},
   "outputs": [],
   "source": [
    "fit2.plot()\n",
    "show()\n",
    "print (fit2)"
   ]
  },
  {
   "cell_type": "code",
   "execution_count": null,
   "metadata": {},
   "outputs": [],
   "source": [
    "Rhat=fit2.summary()['summary'][:, -1]\n",
    "R_norm=sum(Rhat)/Rhat.size\n",
    "print('Normalized R=', float(R_norm))\n",
    "plt.figure(figsize=(5,4))\n",
    "plt.hist(Rhat);\n",
    "xlabel('R value')\n",
    "ylabel('Count')\n",
    "title(r'$\\hat R$');\n",
    "show()"
   ]
  },
  {
   "cell_type": "code",
   "execution_count": null,
   "metadata": {},
   "outputs": [],
   "source": [
    "traces=fit2.extract(permuted=True)"
   ]
  },
  {
   "cell_type": "code",
   "execution_count": null,
   "metadata": {},
   "outputs": [],
   "source": [
    "p_l,p_h =percentile(traces['p'], [2.5,97.5], axis=0)\n",
    "p_est=mean(traces['p'], axis=0)"
   ]
  },
  {
   "cell_type": "code",
   "execution_count": null,
   "metadata": {},
   "outputs": [],
   "source": [
    "Np=traces['p'].shape[1]"
   ]
  },
  {
   "cell_type": "code",
   "execution_count": null,
   "metadata": {},
   "outputs": [],
   "source": [
    "figure(figsize=(16,3))\n",
    "for i in range(Np):\n",
    "     subplot(1, Np, i + 1)  \n",
    "     hist(traces['p'][:,i], bins=10);\n",
    "     axvline(p_est[i], color='r')\n",
    "     title(f'p_{i}') \n",
    "show()"
   ]
  },
  {
   "cell_type": "code",
   "execution_count": null,
   "metadata": {},
   "outputs": [],
   "source": [
    "y_fit= polyval(p_est[::-1], t_obs)\n",
    "y_fit_l=polyval(p_l[::-1], t_obs)\n",
    "y_fit_h=polyval(p_h[::-1], t_obs)"
   ]
  },
  {
   "cell_type": "code",
   "execution_count": null,
   "metadata": {},
   "outputs": [],
   "source": [
    "figure(figsize=(6, 4))\n",
    "\n",
    "plot(t, y, 'bo', linewidth=1.0, label='True signal')\n",
    "plot(t_obs, yobs,'r*', label=' Synthetic data' )\n",
    "plot(t_obs, y_fit,'y--.', label='fitted signal' )\n",
    "fill_between(t_obs, y_fit_l, y_fit_h, alpha=0.2, facecolor='g', edgecolor='none')\n",
    "\n",
    "xlabel(\"index\")\n",
    "ylabel(\"y\")\n",
    "title(' Model 2')\n",
    "legend()\n",
    "tight_layout()\n",
    "show() "
   ]
  },
  {
   "cell_type": "markdown",
   "metadata": {},
   "source": [
    "# Fit Polynomial order 3"
   ]
  },
  {
   "cell_type": "code",
   "execution_count": null,
   "metadata": {},
   "outputs": [],
   "source": [
    "model_poly3 = open('model_poly3.stan').read()    \n",
    "print(model_poly3)"
   ]
  },
  {
   "cell_type": "code",
   "execution_count": null,
   "metadata": {},
   "outputs": [],
   "source": [
    "tic=time.time()\n",
    "model3 =pystan.StanModel(model_code=model_poly3) \n",
    "print(time.time()- tic, 'second is required to run')"
   ]
  },
  {
   "cell_type": "code",
   "execution_count": null,
   "metadata": {},
   "outputs": [],
   "source": [
    "fit3 = model3.sampling(data=data_input, iter=2000, warmup=500, chains=1, n_jobs=-1, verbose=True, refresh=10)    "
   ]
  },
  {
   "cell_type": "code",
   "execution_count": null,
   "metadata": {},
   "outputs": [],
   "source": [
    "fit3.plot()\n",
    "show()\n",
    "print (fit3)"
   ]
  },
  {
   "cell_type": "code",
   "execution_count": null,
   "metadata": {},
   "outputs": [],
   "source": [
    "Rhat=fit3.summary()['summary'][:, -1]\n",
    "R_norm=sum(Rhat)/Rhat.size\n",
    "print('Normalized R=', float(R_norm))\n",
    "plt.figure(figsize=(5,4))\n",
    "plt.hist(Rhat);\n",
    "xlabel('R value')\n",
    "ylabel('Count')\n",
    "title(r'$\\hat R$');\n",
    "show()"
   ]
  },
  {
   "cell_type": "code",
   "execution_count": null,
   "metadata": {},
   "outputs": [],
   "source": [
    "traces=fit3.extract(permuted=True)"
   ]
  },
  {
   "cell_type": "code",
   "execution_count": null,
   "metadata": {},
   "outputs": [],
   "source": [
    "p_l,p_h =percentile(traces['p'], [2.5,97.5], axis=0)\n",
    "p_est=mean(traces['p'], axis=0)"
   ]
  },
  {
   "cell_type": "code",
   "execution_count": null,
   "metadata": {},
   "outputs": [],
   "source": [
    "Np=traces['p'].shape[1]"
   ]
  },
  {
   "cell_type": "code",
   "execution_count": null,
   "metadata": {},
   "outputs": [],
   "source": [
    "figure(figsize=(18,3))\n",
    "for i in range(Np):\n",
    "     subplot(1, Np, i + 1)  \n",
    "     hist(traces['p'][:,i], bins=10);\n",
    "     axvline(p_est[i], color='r')\n",
    "     title(f'p_{i}') \n",
    "show()"
   ]
  },
  {
   "cell_type": "code",
   "execution_count": null,
   "metadata": {},
   "outputs": [],
   "source": [
    "y_fit= polyval(p_est[::-1], t_obs)\n",
    "y_fit_l=polyval(p_l[::-1], t_obs)\n",
    "y_fit_h=polyval(p_h[::-1], t_obs)"
   ]
  },
  {
   "cell_type": "code",
   "execution_count": null,
   "metadata": {},
   "outputs": [],
   "source": [
    "figure(figsize=(6, 4))\n",
    "\n",
    "plot(t, y, 'bo', linewidth=1.0, label='True signal')\n",
    "plot(t_obs, yobs,'r*', label=' Synthetic data' )\n",
    "plot(t_obs, y_fit,'y--.', label='fitted signal' )\n",
    "fill_between(t_obs, y_fit_l, y_fit_h, alpha=0.2, facecolor='g', edgecolor='none')\n",
    "\n",
    "xlabel(\"index\")\n",
    "ylabel(\"y\")\n",
    "title(' Model 3')\n",
    "legend()\n",
    "tight_layout()\n",
    "show() "
   ]
  },
  {
   "cell_type": "markdown",
   "metadata": {},
   "source": [
    "# Fit Polynomial order 5"
   ]
  },
  {
   "cell_type": "code",
   "execution_count": null,
   "metadata": {},
   "outputs": [],
   "source": [
    "model_poly5 = open('model_poly5.stan').read()    \n",
    "print(model_poly5)"
   ]
  },
  {
   "cell_type": "code",
   "execution_count": null,
   "metadata": {},
   "outputs": [],
   "source": [
    "tic=time.time()\n",
    "model5 =pystan.StanModel(model_code=model_poly5) \n",
    "print(time.time()- tic, 'second is required to run')"
   ]
  },
  {
   "cell_type": "code",
   "execution_count": null,
   "metadata": {},
   "outputs": [],
   "source": [
    "fit5 = model5.sampling(data=data_input, iter=2000, warmup=500, chains=1, n_jobs=-1, verbose=True, refresh=10)    "
   ]
  },
  {
   "cell_type": "code",
   "execution_count": null,
   "metadata": {},
   "outputs": [],
   "source": [
    "fit5.plot()\n",
    "show()\n",
    "print (fit5)"
   ]
  },
  {
   "cell_type": "code",
   "execution_count": null,
   "metadata": {},
   "outputs": [],
   "source": [
    "Rhat=fit5.summary()['summary'][:, -1]\n",
    "R_norm=sum(Rhat)/Rhat.size\n",
    "print('Normalized R=', float(R_norm))\n",
    "plt.figure(figsize=(5,4))\n",
    "plt.hist(Rhat);\n",
    "xlabel('R value')\n",
    "ylabel('Count')\n",
    "title(r'$\\hat R$');\n",
    "show()"
   ]
  },
  {
   "cell_type": "code",
   "execution_count": null,
   "metadata": {},
   "outputs": [],
   "source": [
    "traces=fit5.extract(permuted=True)"
   ]
  },
  {
   "cell_type": "code",
   "execution_count": null,
   "metadata": {},
   "outputs": [],
   "source": [
    "p_l,p_h =percentile(traces['p'], [2.5,97.5], axis=0)\n",
    "p_est=mean(traces['p'], axis=0)"
   ]
  },
  {
   "cell_type": "code",
   "execution_count": null,
   "metadata": {},
   "outputs": [],
   "source": [
    "Np=traces['p'].shape[1]"
   ]
  },
  {
   "cell_type": "code",
   "execution_count": null,
   "metadata": {},
   "outputs": [],
   "source": [
    "figure(figsize=(20,3))\n",
    "for i in range(Np):\n",
    "     subplot(1, Np, i + 1)  \n",
    "     hist(traces['p'][:,i], bins=10);\n",
    "     axvline(p_est[i], color='r')\n",
    "     title(f'p_{i}') \n",
    "show()"
   ]
  },
  {
   "cell_type": "code",
   "execution_count": null,
   "metadata": {},
   "outputs": [],
   "source": [
    "y_fit= polyval(p_est[::-1], t_obs)\n",
    "y_fit_l=polyval(p_l[::-1], t_obs)\n",
    "y_fit_h=polyval(p_h[::-1], t_obs)"
   ]
  },
  {
   "cell_type": "code",
   "execution_count": null,
   "metadata": {},
   "outputs": [],
   "source": [
    "figure(figsize=(6, 4))\n",
    "\n",
    "plot(t, y, 'bo', linewidth=1.0, label='True signal')\n",
    "plot(t_obs, yobs,'r*', label=' Synthetic data' )\n",
    "plot(t_obs, y_fit,'y--.', label='fitted signal' )\n",
    "fill_between(t_obs, y_fit_l, y_fit_h, alpha=0.2, facecolor='g', edgecolor='none')\n",
    "\n",
    "xlabel(\"index\")\n",
    "ylabel(\"y\")\n",
    "title(' Model 5')\n",
    "legend()\n",
    "tight_layout()\n",
    "show() "
   ]
  },
  {
   "cell_type": "markdown",
   "metadata": {},
   "source": [
    "Note that, R hat is equal to 1 (or very close to 1), for all parameters of each considered models."
   ]
  },
  {
   "cell_type": "markdown",
   "metadata": {},
   "source": [
    "# Model Evaluation & Model Comparison"
   ]
  },
  {
   "cell_type": "markdown",
   "metadata": {},
   "source": [
    "** Diagnostic measures to estimate the reliability of inference**: \n",
    "\n",
    "\n",
    "* CV: cross-validation \n",
    "\n",
    "** Good approximate for CV**: \n",
    "\n",
    "* WAIC: Watanabe-Akaike or widely applicable information criterion\n",
    "\n",
    "* PSIS-LOO: (Efficient approximate leave-one-out cross-validation for Bayesian models).\n",
    "\n",
    "* LOO: Leave-one-out cross-validation\n",
    "\n",
    "* PSIS: Pareto smoothed importance sampling. \n",
    "\n"
   ]
  },
  {
   "cell_type": "markdown",
   "metadata": {},
   "source": [
    "**WAIC**"
   ]
  },
  {
   "cell_type": "markdown",
   "metadata": {},
   "source": [
    "\n",
    "WAIC and PSIS-LOO are methods for estimating pointwise out-of-sample prediction accuracy from a fitted Bayesian model using the log-likelihood evaluated at the posterior simulations of the parameter values.\n",
    "\n",
    "\n",
    "WAIC and PSIS-LOO  have various advantages over simpler estimates of predictive error such as AIC and DIC but are less used in practice because they involve additional computational steps.\n",
    "\n",
    "\n",
    "\n",
    "AIC ignores priors and assumes that the posterior distribution is multivariate normal, whereas the functions from the LOO do not make this distributional assumption and integrate over uncertainty in the parameters. This only assumes that any one observation can be omitted without having a major effect on the posterior distribution.\n",
    "\n",
    "\n",
    "WAIC is based on the series expansion of LOO, and asymptotically they are equal. \n",
    "\n",
    "With finite data, WAIC and CV address different predictive questions and thus it is useful to be able to compute both.  \n",
    "\n",
    "\n",
    "WAIC and an  PSIS-OO can be estimated directly using the log-likelihood evaluated at the posterior simulations of the parameter value.\n",
    "\n",
    "\n",
    "The exact LOO, in practice would usually not be computed because of its computational cost.\n",
    "\n",
    "\n",
    "In sum, WAIC enable an approximation of the exact LOO without requiring refitting of the model."
   ]
  },
  {
   "cell_type": "markdown",
   "metadata": {},
   "source": [
    "**How we can compute WAIC in stan?!**\n",
    "\n",
    "*The log likelihood required  for  WAIC  and  PSIS-LOO  is  added  on  to  the  model  in  the  generated  quantities  block.*\n"
   ]
  },
  {
   "cell_type": "markdown",
   "metadata": {},
   "source": [
    "** K -fold cross-validation**\n",
    "\n",
    "To implement K-fold cross-validation in Stan we need to repeatedly fit the model to one subset of\n",
    "the data and use it to predict the held-out set.\n",
    "\n"
   ]
  },
  {
   "cell_type": "markdown",
   "metadata": {},
   "source": [
    "# Information criteria"
   ]
  },
  {
   "cell_type": "markdown",
   "metadata": {},
   "source": [
    "\n",
    "* WAIC: Watanabe-Akaike or widely applicable information criterion (prefreed to below criteria since it is fully Bayesian)\n",
    "\n",
    "\n",
    "* DIC: deviance information criterion (generalization of the AIC and the BIC)\n",
    "\n",
    "\n",
    "* AICC: (generalization of the AIC)\n",
    "\n",
    "\n",
    "* AIC: Akaike information criterion \n",
    "\n",
    "\n",
    "* BIC: Bayesian information criterion\n",
    " \n"
   ]
  },
  {
   "cell_type": "markdown",
   "metadata": {},
   "source": [
    "** WAIC**"
   ]
  },
  {
   "cell_type": "markdown",
   "metadata": {},
   "source": [
    "WAIC can be viewed as an improvement on the DIC for Bayesian models.\n",
    "\n",
    "DIC is  not  being  fully  Bayesian  in that it is based on a point estimate ( For example, DIC can produce negative estimates of the effective number of parameters in a model and it is not defined for singular models).\n",
    "\n",
    "\n",
    "WAIC is fully Bayesian and closely approximates Bayesian cross-validation. Unlike DIC, WAIC is invariant to parametrization and also works for singular models.\n",
    "\n",
    "\n",
    "Exact cross-validation requires re-fitting the model with different training sets.  Approximate LOO can be computed easily using truncated importance sampling.\n",
    "\n",
    "\n"
   ]
  },
  {
   "cell_type": "markdown",
   "metadata": {},
   "source": [
    "\n",
    "\n",
    "To keep comparability with the given dataset and to get easier interpretation of the differences in scale of effective number of parameters, we define a measure of predictive accuracy for the\n",
    "n data points taken opointwisene at a time:\n",
    "\n",
    "*elpd   =   expected log pointwise predictive density for a new dataset.*\n",
    "\n",
    "\n",
    "we will use WAIC to approximate elpd.\n",
    "\n",
    "\n",
    "A helpful quantity in the analysis is:\n",
    "\n",
    "lpd   =  computed  log pointwise predictive density\n",
    "\n",
    "\n",
    "WAIC  can  be  interpreted  as  a  computationally  convenient  approximation  to cross-validation and is defined based on:\n",
    "\n",
    "elpd_waic = lpd - p_waic,\n",
    "\n",
    "where p_waic is the estimated effective number of parameters, which we can calculate using the posterior variance of the log predictive density for each data point (i.e., variance-based computation of number of parameters).\n",
    "\n",
    "\n",
    "Finally, \n",
    "\n",
    "WAIC = -2 * elpd_waic"
   ]
  },
  {
   "cell_type": "markdown",
   "metadata": {},
   "source": [
    "* WAIC is a way of measuring the fit of Bayesian models. It is conceptually similar to AIC and BIC. Like AIC and BIC, lower values of WAIC indicate a better model fit."
   ]
  },
  {
   "cell_type": "markdown",
   "metadata": {},
   "source": [
    "**DIC**"
   ]
  },
  {
   "cell_type": "markdown",
   "metadata": {},
   "source": [
    "DIC is a hierarchical modeling generalization of the AIC and the BIC. It is particularly useful in Bayesian model selection problems where the posterior distributions of the models have been obtained by MCMC.\n",
    "\n",
    "\n",
    "Define the deviance as  $D(\\theta )=-2\\log(p(y|\\theta ))+C$, where  y are the data,  $\\theta$  are the unknown parameters of the model and  p(y|$\\theta$ ), is the likelihood function. \n",
    "\n",
    " C, is a constant that cancels out in all calculations that compare different models, and which therefore does not need to be known.\n",
    " \n",
    "The models with smaller DIC should be preferred to models with larger DIC."
   ]
  },
  {
   "cell_type": "markdown",
   "metadata": {},
   "source": [
    "**AIC**"
   ]
  },
  {
   "cell_type": "markdown",
   "metadata": {},
   "source": [
    "Given a collection of models for the data, AIC estimates the quality of each model, relative to each of the other models. Thus, AIC provides a means for model selection (it deals with the trade-off between the goodness of fit of the model and the simplicity of the model).\n",
    "\n",
    "AIC tells nothing about the absolute quality of a model, only the quality relative to other models. Thus, if all the candidate models fit poorly, AIC will not give any warning of that.\n",
    "\n",
    "\n",
    " Let k be the number of estimated parameters in the model. Let  $\\hat L$ be the maximum value of the likelihood function for the model. Then the AIC value of the model is \n",
    "\n",
    "$ \\mathrm {AIC} =2k-2\\ln({\\hat {L}})$\n",
    "\n",
    "\n",
    "Given a set of candidate models for the data, the preferred model is the one with the minimum AIC value. Thus, AIC rewards goodness of fit (as assessed by the likelihood function), but it also includes a penalty that is an increasing function of the number of estimated parameters. The penalty discourages overfitting, because increasing the number of parameters in the model almost always improves the goodness of the fit."
   ]
  },
  {
   "cell_type": "markdown",
   "metadata": {},
   "source": [
    "**AICc**"
   ]
  },
  {
   "cell_type": "markdown",
   "metadata": {},
   "source": [
    "When the sample size is small, there is a substantial probability that AIC will select models that have too many parameters, i.e. that AIC will overfit. To address such potential overfitting, AICc was developed: AICc is AIC with a correction for small sample sizes.\n",
    "\n",
    "The formula for AICc depends upon the statistical model. Assuming that the model is univariate, is linear in its parameters, and has normally-distributed residuals (conditional upon regressors), then the formula for AICc is as follows:\n",
    "\n",
    "$\\mathrm {AICc} =\\mathrm {AIC} +{\\frac {2k^{2}+2k}{n-k-1}}$,\n",
    "\n",
    "where n denotes the sample size and k denotes the number of parameters. Thus, AICc is essentially AIC with an extra penalty term for the number of parameters. Note that as n → ∞, the extra penalty term converges to 0, and thus AICc converges to AIC.\n",
    "\n",
    "so,  AICc has the advantage of tending to be more accurate than AIC (especially for small samples).\n",
    "\n",
    "\n",
    "The formula for the BIC is similar to the formula for AIC, but with a different penalty for the number of parameters. With AIC the penalty is 2k, whereas with BIC the penalty is ln(n) k."
   ]
  },
  {
   "cell_type": "markdown",
   "metadata": {},
   "source": [
    "**BIC**"
   ]
  },
  {
   "cell_type": "markdown",
   "metadata": {},
   "source": [
    " \n",
    " \n",
    "BIC is a criterion for model selection among a finite set of models; the model with the lowest BIC is preferred. \n",
    "It is based, in part, on the likelihood function and it is closely related to the AIC.\n",
    "\n",
    "\n",
    "When fitting models, it is possible to increase the likelihood by adding parameters, but doing so may result in overfitting. Both BIC and AIC attempt to resolve this problem by introducing a penalty term for the number of parameters in the model; the penalty term is larger in BIC than in AIC.\n",
    "\n",
    "\n",
    "\n",
    "The BIC is formally defined as: \n",
    "\n",
    "${\\displaystyle \\mathrm {BIC} ={\\ln(n)k-2\\ln({\\hat {L}})}.\\ } $, where\n",
    "\n",
    "$\\hat L$ = the maximized value of the likelihood function of the model  M, i.e. $ \\hat L=p(x|\\theta_{mle})$,\n",
    "\n",
    "\n",
    "where $ { {\\theta_{mle} }}$ are the parameter values that maximize the likelihood function;\n",
    "\n",
    " x = the observed data;\n",
    " \n",
    " n = the number of data points in  x, the number of observations.\n",
    " \n",
    " k = the number of parameters estimated by the model."
   ]
  },
  {
   "cell_type": "markdown",
   "metadata": {},
   "source": [
    "**using the output from the Stan fit, in ComputeICs.py the ICc are computed as:**"
   ]
  },
  {
   "cell_type": "markdown",
   "metadata": {},
   "source": [
    "\n",
    "log_lik: log of likelihood, with size of s x n where s is number of samples and n is number of data points.\n",
    "\n",
    "\n",
    "maxlike: max of log_like,\n",
    "\n",
    "k = nparams,\n",
    "\n",
    "n = ndata,\n",
    "\n",
    "s=nsamples,\n",
    "    \n",
    "    \n",
    "    \n",
    "\n",
    "lpd=np.sum(np.log(np.mean(np.exp(log_like),axis=0))),\n",
    "    \n",
    "    \n",
    "p_waic = np.sum(var(log_like, axis=0, dtype=np.float64)), \n",
    "    \n",
    "    \n",
    "elpd_waic = lpd - p_waic, \n",
    "\t\n",
    "    \n",
    "    \n",
    "\n",
    "* waic = -2 * elpd_waic\n",
    "\n",
    "\n",
    "* aic: 2 * k - 2 * log_like.max()\n",
    "\n",
    "\n",
    "* aicc: aic + 2 * k * (k + 1) / (n - k - 1)\n",
    "\n",
    "\n",
    "* bic: -2 * log_like.max() + k * log(n)\n",
    " \n",
    " "
   ]
  },
  {
   "cell_type": "markdown",
   "metadata": {},
   "source": [
    "\n"
   ]
  },
  {
   "cell_type": "markdown",
   "metadata": {},
   "source": [
    "** Refs:**\n",
    "\n",
    "* Understanding predictive information criteria for Bayesi\n",
    "an models:\n",
    "\n",
    "https://arxiv.org/pdf/1307.5928.pdf\n",
    "\n",
    "* WAIC and cross-validation in Stan:\n",
    "\n",
    "http://www.stat.columbia.edu/%7Egelman/research/unpublished/waic_stan.pdf\n",
    "\n",
    "* Practical Bayesian model evaluation using leave-one-out cross-validation and WAIC:\n",
    "\n",
    "https://arxiv.org/pdf/1507.04544.pdf\n",
    "\n",
    "\n",
    "* Yes, but Did It Work?: Evaluating Variational Inference:\n",
    "https://arxiv.org/pdf/1802.02538.pdf\n",
    "\n",
    "\n",
    "* PSIS:\n",
    "https://github.com/avehtari/PSIS\n",
    "\n",
    "\n",
    "\n",
    "\n",
    "** useful recources:**\n",
    "\n",
    "* https://github.com/JohannesBuchner/ic4stan\n",
    "\n",
    "* https://github.com/stan-dev/stan/issues/473\n",
    "\n",
    "* http://kylehardman.com/BlogPosts/View/7\n"
   ]
  },
  {
   "cell_type": "markdown",
   "metadata": {},
   "source": [
    "# Measuring information criteria and LOO"
   ]
  },
  {
   "cell_type": "code",
   "execution_count": null,
   "metadata": {
    "scrolled": true
   },
   "outputs": [],
   "source": [
    "tic=time.time()\n",
    "!./RunIC.sh \n",
    "print('total running time is: ', time.time()- tic, 'second')"
   ]
  },
  {
   "cell_type": "code",
   "execution_count": null,
   "metadata": {},
   "outputs": [],
   "source": [
    "!ls"
   ]
  },
  {
   "cell_type": "markdown",
   "metadata": {},
   "source": [
    "# Plot  functions"
   ]
  },
  {
   "cell_type": "code",
   "execution_count": null,
   "metadata": {},
   "outputs": [],
   "source": [
    "error_kw= dict(ecolor='b', capsize=6, elinewidth=1)\n",
    "error_kw_red=dict(ecolor='r', capsize=6, elinewidth=1)\n",
    "\n",
    "def bestmodel_barplot(y, y_err):\n",
    "    bar(range(len(y)), y, yerr=y_err, color='b', alpha=0.8, error_kw=error_kw)\n",
    "    bar(argmin(y), y[argmin(y)], yerr=y_err[argmin(y)], color='r',  error_kw=error_kw_red, label=\"Best Model\")\n",
    "    xticks(r_[:len(Models)], [Models[i] for i in range(0,len(Models))], rotation=30);\n",
    "    return"
   ]
  },
  {
   "cell_type": "code",
   "execution_count": null,
   "metadata": {},
   "outputs": [],
   "source": [
    "def scatter_plot(y): \n",
    "    from matplotlib import cm\n",
    "    #colors = cm.seismic(y / float(max(y)))\n",
    "    plot = plt.scatter(r_[:y.shape[0]]+1, y, c = y, cmap = 'seismic', lw=4)\n",
    "    plt.colorbar(plot)\n",
    "    #plt.stem(r_[:y.shape[0]]+1, y, color = colors,linewidth=2, basefmt=\" \")\n",
    "    return "
   ]
  },
  {
   "cell_type": "code",
   "execution_count": null,
   "metadata": {},
   "outputs": [],
   "source": [
    "def k_count(y,y_thr): \n",
    "    k=((y > y_thr).sum()/y.size)*100   \n",
    "    return k"
   ]
  },
  {
   "cell_type": "code",
   "execution_count": null,
   "metadata": {},
   "outputs": [],
   "source": [
    "import re\n",
    "import glob\n",
    "from operator import itemgetter\n",
    "\n",
    "cwd = os.getcwd()\n",
    "os.chdir(cwd)\n",
    "\n",
    "numbers = re.compile(r'(\\d+)')\n",
    "\n",
    "def numericalSort(value):\n",
    "    parts = numbers.split(value)\n",
    "    parts[1::2] = map(int, parts[1::2])\n",
    "    return parts"
   ]
  },
  {
   "cell_type": "markdown",
   "metadata": {},
   "source": [
    "# Plot information criteria"
   ]
  },
  {
   "cell_type": "markdown",
   "metadata": {},
   "source": [
    "Lets see what we have in the current dir!"
   ]
  },
  {
   "cell_type": "code",
   "execution_count": null,
   "metadata": {},
   "outputs": [],
   "source": [
    "allStanFiles = sorted(glob.glob(cwd + \"/*.stan\"), key=numericalSort)\n",
    "\n",
    "allStanFiles"
   ]
  },
  {
   "cell_type": "code",
   "execution_count": null,
   "metadata": {},
   "outputs": [],
   "source": [
    "Models= [x.rsplit('/')[-1].rsplit('.stan')[-2] for x in allStanFiles]\n",
    "\n",
    "print(Models)"
   ]
  },
  {
   "cell_type": "code",
   "execution_count": null,
   "metadata": {},
   "outputs": [],
   "source": [
    "allReport_textFiles = sorted(glob.glob(cwd + \"/*.txt\"), key=numericalSort)\n",
    "\n",
    "allReport_textFiles"
   ]
  },
  {
   "cell_type": "code",
   "execution_count": null,
   "metadata": {},
   "outputs": [],
   "source": [
    "all_IcFiles= [x.rsplit('/')[-1] for x in allReport_textFiles if 'Ic' in x]\n",
    "\n",
    "all_IcFiles"
   ]
  },
  {
   "cell_type": "code",
   "execution_count": null,
   "metadata": {},
   "outputs": [],
   "source": [
    "!cat model_poly1.stan_report_Ic.txt"
   ]
  },
  {
   "cell_type": "code",
   "execution_count": null,
   "metadata": {},
   "outputs": [],
   "source": [
    "!cat model_poly2.stan_report_Ic.txt"
   ]
  },
  {
   "cell_type": "code",
   "execution_count": null,
   "metadata": {},
   "outputs": [],
   "source": [
    "IC_elements = []\n",
    "with open(all_IcFiles[0], 'r') as fd:\n",
    "    for line in fd.readlines():\n",
    "        IC_elements.append(line.strip().split()[0])\n",
    "        \n",
    "IC_elements"
   ]
  },
  {
   "cell_type": "code",
   "execution_count": null,
   "metadata": {},
   "outputs": [],
   "source": [
    "maxlike_idx=IC_elements.index('maxlike')\n",
    "p_waic_idx=IC_elements.index('p_waic')\n",
    "elpd_waic_idx=IC_elements.index('elpd_waic')\n",
    "waic_idx=IC_elements.index('waic')\n",
    "dic_idx=IC_elements.index('dic')\n",
    "aicc_idx=IC_elements.index('aicc')\n",
    "aic_idx=IC_elements.index('aic')\n",
    "bic_idx=IC_elements.index('bic')"
   ]
  },
  {
   "cell_type": "code",
   "execution_count": null,
   "metadata": {},
   "outputs": [],
   "source": [
    "IC=[loadtxt(x, delimiter=',', usecols=(1) ).T for x in all_IcFiles]\n",
    "IC_err=[loadtxt(x, delimiter=',', usecols=(2) ).T for x in all_IcFiles]\n",
    "\n",
    "IC=asarray(IC)\n",
    "IC_err=asarray(IC_err)"
   ]
  },
  {
   "cell_type": "code",
   "execution_count": null,
   "metadata": {},
   "outputs": [],
   "source": [
    "figure(figsize=(14, 30))\n",
    "\n",
    "error_kw= dict(ecolor='b', capsize=6, elinewidth=1)\n",
    "error_kw_red=dict(ecolor='r', capsize=6, elinewidth=1)\n",
    "\n",
    "for i in range(len(IC_elements)):\n",
    "     subplot(len(IC_elements)//2+1, 2, i + 1)  \n",
    "     y=[IC[j][i]  for j in range(0,len(IC))]\n",
    "     y_err=[IC_err[j][i]  for j in range(0,len(IC))]\n",
    "\n",
    "     if i in (elpd_waic_idx, maxlike_idx):\n",
    "         bar(r_[:len(IC)], y, yerr=y_err, color='b', alpha=0.8, error_kw=error_kw)\n",
    "         barlist= bar(argmax(y), y[argmax(y)], yerr=y_err[argmax(y)], color='r',  error_kw=error_kw_red, label=\"Best Model\")\n",
    "     else:\n",
    "         bar(r_[:len(IC)], y, yerr=y_err, color='b', alpha=0.8, error_kw=error_kw)\n",
    "         barlist= bar(argmin(y), y[argmin(y)], yerr=y_err[argmin(y)], color='r',  error_kw=error_kw_red, label=\"Best Model\")\n",
    "     #xticks(r_[:len(IC)], [Models[j]  for j in range(0,len(IC))], rotation=70);\n",
    "     xticks(r_[:len(IC)], ['Model1','Model2','Model3','Model4' ], rotation=0);\n",
    "     ylabel('IC')\n",
    "     title(IC_elements[i])\n",
    "     legend()\n",
    "\n",
    "show() "
   ]
  },
  {
   "cell_type": "code",
   "execution_count": null,
   "metadata": {},
   "outputs": [],
   "source": [
    "elpd_waic=[IC[j][elpd_waic_idx]  for j in range(0,len(IC))]\n",
    "p_waic=[IC[j][p_waic_idx]  for j in range(0,len(IC))]\n",
    "waic=[IC[j][waic_idx]  for j in range(0,len(IC))]\n",
    "dic=[IC[j][dic_idx]  for j in range(0,len(IC))]\n",
    "aicc=[IC[j][aicc_idx]  for j in range(0,len(IC))]\n",
    "aic=[IC[j][aic_idx]  for j in range(0,len(IC))]\n",
    "bic=[IC[j][bic_idx]  for j in range(0,len(IC))]"
   ]
  },
  {
   "cell_type": "code",
   "execution_count": null,
   "metadata": {},
   "outputs": [],
   "source": [
    "elpd_waic_err=[IC_err[j][elpd_waic_idx]  for j in range(0,len(IC_err))]\n",
    "p_err=[IC_err[j][p_waic_idx]  for j in range(0,len(IC_err))]\n",
    "waic_err=[IC_err[j][waic_idx]  for j in range(0,len(IC_err))]\n",
    "dic_err=[IC_err[j][dic_idx]  for j in range(0,len(IC_err))]\n",
    "aicc_err=[IC_err[j][aicc_idx]  for j in range(0,len(IC_err))]\n",
    "aic_err=[IC_err[j][aic_idx]  for j in range(0,len(IC_err))]\n",
    "bic_err=[IC_err[j][bic_idx]  for j in range(0,len(IC_err))]"
   ]
  },
  {
   "cell_type": "code",
   "execution_count": null,
   "metadata": {},
   "outputs": [],
   "source": [
    "figure(figsize=(14, 14))\n",
    "\n",
    "subplot(221)\n",
    "y = waic\n",
    "y_err = waic_err\n",
    "bestmodel_barplot(y, y_err)\n",
    "ylabel(\"WAIC\")\n",
    "\n",
    "subplot(222)\n",
    "y = aicc\n",
    "y_err = aicc_err\n",
    "bestmodel_barplot(y, y_err)\n",
    "ylabel(\"AICc\")\n",
    "\n",
    "subplot(223)\n",
    "y = aic\n",
    "y_err = aic_err\n",
    "bestmodel_barplot(y, y_err)\n",
    "ylabel(\"AIC\")\n",
    "\n",
    "subplot(224)\n",
    "y = bic\n",
    "y_err = bic_err\n",
    "bestmodel_barplot(y, y_err)\n",
    "ylabel(\"BIC\")\n",
    "\n",
    "show()"
   ]
  },
  {
   "cell_type": "markdown",
   "metadata": {},
   "source": [
    "# Which One?!"
   ]
  },
  {
   "cell_type": "code",
   "execution_count": null,
   "metadata": {},
   "outputs": [],
   "source": [
    "Best_model=[]\n",
    "\n",
    "if \"waic\" in IC_elements:\n",
    "    Best_model.append(min(enumerate(IC[:,waic_idx]), key=itemgetter(1))[0]+1)\n",
    "if \"dic\" in IC_elements:\n",
    "    Best_model.append(min(enumerate(IC[:,dic_idx]), key=itemgetter(1))[0]+1)    \n",
    "if \"aicc\" in IC_elements:\n",
    "    Best_model.append(min(enumerate(IC[:,aicc_idx]), key=itemgetter(1))[0]+1)\n",
    "if \"aic\" in IC_elements:\n",
    "    Best_model.append(min(enumerate(IC[:,aic_idx]), key=itemgetter(1))[0]+1)\n",
    "if \"bic\" in IC_elements:\n",
    "    Best_model.append(min(enumerate(IC[:,bic_idx]), key=itemgetter(1))[0]+1)"
   ]
  },
  {
   "cell_type": "code",
   "execution_count": null,
   "metadata": {},
   "outputs": [],
   "source": [
    "print('Best model is model: ', Best_model)"
   ]
  },
  {
   "cell_type": "markdown",
   "metadata": {},
   "source": [
    "Given a set of candidate models for the data, the preferred model is the one with the minimum AIC value."
   ]
  },
  {
   "cell_type": "code",
   "execution_count": null,
   "metadata": {},
   "outputs": [],
   "source": [
    "Best_model_elpd_waic=max(enumerate(elpd_waic), key=itemgetter(1))[0]+1\n",
    "print('Best model according to elpd_waic is model', Best_model_elpd_waic)"
   ]
  },
  {
   "cell_type": "code",
   "execution_count": null,
   "metadata": {},
   "outputs": [],
   "source": [
    "Best_model_waic=min(enumerate(waic), key=itemgetter(1))[0]+1\n",
    "print('Best model according to WAIC is model', Best_model_waic)"
   ]
  },
  {
   "cell_type": "code",
   "execution_count": null,
   "metadata": {},
   "outputs": [],
   "source": [
    "Best_model_dic=min(enumerate(dic), key=itemgetter(1))[0]+1\n",
    "print('Best model according to DIC is model', Best_model_dic)"
   ]
  },
  {
   "cell_type": "code",
   "execution_count": null,
   "metadata": {},
   "outputs": [],
   "source": [
    "Best_model_aicc=min(enumerate(aicc), key=itemgetter(1))[0]+1\n",
    "print('Best model according to AICc is model', Best_model_aicc)"
   ]
  },
  {
   "cell_type": "code",
   "execution_count": null,
   "metadata": {},
   "outputs": [],
   "source": [
    "Best_model_aic=min(enumerate(aic), key=itemgetter(1))[0]+1\n",
    "print('Best model according to AIC is model', Best_model_aic)"
   ]
  },
  {
   "cell_type": "code",
   "execution_count": null,
   "metadata": {},
   "outputs": [],
   "source": [
    "Best_model_bic=min(enumerate(bic), key=itemgetter(1))[0]+1\n",
    "print('Best model according to BIC is model', Best_model_bic)"
   ]
  },
  {
   "cell_type": "markdown",
   "metadata": {},
   "source": [
    "# PSIS"
   ]
  },
  {
   "cell_type": "markdown",
   "metadata": {},
   "source": [
    "After fitting a Bayesian model we often want to measure its predictive accuracy, for its own sake\n",
    "or for purposes of model comparison,  selection,  or averaging.  Cross-validation and information\n",
    "criteria are two approaches for estimating out-of-sample predictive accuracy using within-sample\n",
    "fits.\n",
    "\n",
    "The basic idea of LOO is to split the data such that each training set used for estimating the parameters only excludes one observation, while one observation is validated. \n",
    "\n",
    "\n",
    "However, the robustness of LOO is achieved by fitting a model as many times as the\n",
    "number of observations, which is prohibitive in terms of time for complex models. In order to reduce computation time, it is possible to use an approximation of LOO or to reduce the\n",
    "number of models to be fit. We can approximate LOO with Pareto smoothed importance sampling (PSIS-LOO; Vehtari & Gelman, 2015)."
   ]
  },
  {
   "cell_type": "markdown",
   "metadata": {},
   "source": [
    "Exact cross-validation requires re-fitting the model with different training sets. Approximate leave-\n",
    "one-out cross-validation (LOO) can be computed easily using importance sampling (Gelfand, Dey,\n",
    "and Chang, 1992, Gelfand, 1996) but the resulting estimate is noisy, as the variance of the impor-\n",
    "tance weights can be large or even infinite (Peruggia, 1997, Epifani et al., 2008). Here we propose\n",
    "a novel approach that provides a more accurate and reliable estimate using importance weights that\n",
    "are smoothed by fitting a generalized Pareto distribution to the upper tail of the distribution of the\n",
    "importance weights."
   ]
  },
  {
   "cell_type": "markdown",
   "metadata": {},
   "source": [
    "WAIC is asymptotically equal to LOO, and can thus be used as an approximation to LOO. In the finite case,  WAIC and LOO often give very similar estimates, but for influential observations WAIC underestimates the effect\n",
    "of leaving out one observation."
   ]
  },
  {
   "cell_type": "markdown",
   "metadata": {},
   "source": [
    "**efficient PSIS-LOO approximation to exact LOO-CV:**"
   ]
  },
  {
   "cell_type": "markdown",
   "metadata": {},
   "source": [
    "PSIS: an efficient computation of LOO using Pareto-smoothed importance sampling.\n",
    "\n",
    "\n",
    "From existing posterior simulation draws, we compute LOO using Pareto smoothed importance sampling (PSIS), a new procedure for regularizing importance weights.\n",
    "\n",
    "\n",
    "Although WAIC is asymptotically equal to LOO, we demonstrate that PSIS-LOO is more robust in the finite case with weak priors or influential observations.\n",
    "\n",
    "\n",
    "\n",
    "*RunPsis.sh* Computes the log predictive densities given posterior samples of the log likelihood terms: math:`p(y_i|$\\theta^s)` in input parameter `log_lik`.\n",
    "\n",
    "\n",
    "\n",
    "**`loo`**:  sum of the leave-one-out log predictive densities, i.e., \n",
    "\n",
    "\n",
    "**`loo`**=sum(**`loos`**),\n",
    "\n",
    "\n",
    "**`loos`**: individual leave-one-out log predictive density terms \n",
    "\n",
    "\n",
    "\n",
    "**`ks`**: an estimate of Pareto tail indeces.\n",
    "\n",
    "\n",
    "**Pareto k diagnostic**:\n",
    "\n",
    "\n",
    "The reliability of the PSIS-based estimates can be assessed using the estimates for the shape parameter k\n",
    "\n",
    "of the generalized Pareto distribution:\n",
    "\n",
    "* If k<1/2: the variance of the raw importance ratios is finite, the central limit theorem holds, and the estimate converges quickly.\n",
    "\n",
    "* If k: is between 1/2 and 1 the variance of the raw importance ratios is infinite but the mean exists, the generalized central limit theorem for stable distributions holds, and the convergence of the estimate is slower. The variance of the PSIS estimate is finite but may be large.\n",
    "\n",
    "* If k>1: the variance and the mean of the raw ratios distribution do not exist. The variance of the PSIS estimate is finite but may be large.\n",
    "\n",
    "\n",
    "** In practice,  good performance can be observed for values of k up to 0.7**\n",
    "\n",
    "**The estimates are unreliable if tail index ``k > 1.0`` **"
   ]
  },
  {
   "cell_type": "markdown",
   "metadata": {},
   "source": [
    "# Measuring PSIS-LOO"
   ]
  },
  {
   "cell_type": "code",
   "execution_count": null,
   "metadata": {},
   "outputs": [],
   "source": [
    "Chains= ['chain 1', 'chain 2', 'chain 3','chain 4' ]\n",
    "\n",
    "PSIS_elements=['loo', 'loos', 'ks']"
   ]
  },
  {
   "cell_type": "code",
   "execution_count": null,
   "metadata": {},
   "outputs": [],
   "source": [
    "allReport_txtFiles = sorted(glob.glob(cwd + \"/*.txt\"), key=numericalSort)\n",
    "\n",
    "all_PsisFiles= [x.rsplit('/')[-1] for x in allReport_txtFiles if  'psis' in x]\n",
    "\n",
    "all_PsisFiles"
   ]
  },
  {
   "cell_type": "code",
   "execution_count": null,
   "metadata": {},
   "outputs": [],
   "source": [
    "PSISs=[pystan.read_rdump(psis_file) for psis_file in all_PsisFiles]\n",
    "PSISs=asarray(PSISs)"
   ]
  },
  {
   "cell_type": "code",
   "execution_count": null,
   "metadata": {},
   "outputs": [],
   "source": [
    "PSISs"
   ]
  },
  {
   "cell_type": "code",
   "execution_count": null,
   "metadata": {},
   "outputs": [],
   "source": [
    "# ￼for i in range(len(PSISs)):\n",
    "#     print ('for model_%d.stan:' % (i+1, ))\n",
    "#     for key, val in PSISs[i].items():\n",
    "#         print(key, val.shape)"
   ]
  },
  {
   "cell_type": "code",
   "execution_count": null,
   "metadata": {},
   "outputs": [],
   "source": [
    "PSISs_dict = {}\n",
    "for i in range(len(all_PsisFiles)):\n",
    "    model = 'model' + str(i)\n",
    "    PSISs_dict[model] = pystan.read_rdump(all_PsisFiles[i])"
   ]
  },
  {
   "cell_type": "code",
   "execution_count": null,
   "metadata": {},
   "outputs": [],
   "source": [
    "#psis_file_1='model_poly1.stan_report_psis.csv'\n",
    "#psis_dict_1 =pystan.read_rdump(psis_file_1)\n",
    "\n",
    "PSISs[0]['loo'], PSISs_dict['model0']['loo']"
   ]
  },
  {
   "cell_type": "code",
   "execution_count": null,
   "metadata": {},
   "outputs": [],
   "source": [
    "figure(figsize=(14, 14))\n",
    "\n",
    "for i in range(len(all_PsisFiles)):\n",
    "     subplot(len(all_PsisFiles)//2, 2, i + 1)  \n",
    "     Loos=PSISs[i]['loos']\n",
    "     Loos_mean=mean(Loos, axis=0)\n",
    "     Loos_err=var(Loos, axis=0)\n",
    "     bar(r_[:len(Loos_mean)], Loos_mean, width=0.3, color='b', alpha=0.8); \n",
    "     errorbar(r_[:len(Loos_mean)], y=Loos_mean, yerr=Loos_err, fmt='none', ecolor='b', capsize=4, elinewidth=1);  \n",
    "     plt.margins(0.1, 0.1)\n",
    "     ylabel('loos')\n",
    "     xlabel('data points')\n",
    "     title(Models[i])\n",
    "    \n",
    "show() "
   ]
  },
  {
   "cell_type": "code",
   "execution_count": null,
   "metadata": {},
   "outputs": [],
   "source": [
    "figure(figsize=(24,12))\n",
    "\n",
    "for i in range(len(all_PsisFiles)):\n",
    "     subplot(len(all_PsisFiles)//2, 2, i + 1)  \n",
    "     y=PSISs[i]['loo']\n",
    "     scatter_plot(y)\n",
    "     xticks(r_[:len(Chains)]+1, [Chains[i] for i in range(0,len(Chains))]);\n",
    "     ylabel('loo')\n",
    "     title(Models[i])\n",
    "       \n",
    "show() "
   ]
  },
  {
   "cell_type": "code",
   "execution_count": null,
   "metadata": {},
   "outputs": [],
   "source": [
    "Loo=[]\n",
    "Loo_err=[]\n",
    "for i in range(len(all_PsisFiles)):\n",
    "    Loo.append(PSISs[i]['loo'].mean())\n",
    "    Loo_err.append(PSISs[i]['loo'].std())"
   ]
  },
  {
   "cell_type": "code",
   "execution_count": null,
   "metadata": {},
   "outputs": [],
   "source": [
    "print ('elpd_waic =',  asarray(elpd_waic))\n",
    "print()\n",
    "print ('PSIS-LOO =',  asarray(Loo)) \n",
    "print()\n",
    "print ('the difference between elpd_waic and PSIS-LOO =', subtract(asarray(Loo) , asarray(elpd_waic)) )\n"
   ]
  },
  {
   "cell_type": "code",
   "execution_count": null,
   "metadata": {},
   "outputs": [],
   "source": [
    "error_kw= dict(ecolor='b', capsize=6, elinewidth=1)\n",
    "error_kw_red=dict(ecolor='r', capsize=6, elinewidth=1)\n",
    "\n",
    "figure(figsize=(14, 14))\n",
    "\n",
    "subplot(221)\n",
    "y = elpd_waic\n",
    "y_err = elpd_waic_err\n",
    "bar(range(len(y)), y, yerr=y_err, color='b', alpha=0.8, error_kw=error_kw)\n",
    "bar(argmax(y), y[argmax(y)], yerr=y_err[argmax(y)], color='r',  error_kw=error_kw_red)\n",
    "xticks(r_[:len(Models)], [Models[i] for i in range(0,len(Models))],rotation=30);\n",
    "title(\"elpd_waic\")\n",
    "\n",
    "subplot(222)\n",
    "y = Loo\n",
    "y_err = Loo_err\n",
    "bar(range(len(y)), y, yerr=y_err, color='b', alpha=0.8, error_kw=error_kw)\n",
    "bar(argmax(y), y[argmax(y)], yerr=y_err[argmax(y)], color='r',  error_kw=error_kw_red)\n",
    "xticks(r_[:len(Models)], [Models[i] for i in range(0,len(Models))], rotation=30);\n",
    "title(\"PSIS-LOO\")\n",
    "show()"
   ]
  },
  {
   "cell_type": "code",
   "execution_count": null,
   "metadata": {},
   "outputs": [],
   "source": [
    "figure(figsize=(18, 14))\n",
    "\n",
    "for i in range(len(all_PsisFiles)):\n",
    "     subplot(len(all_PsisFiles)//2, 2, i + 1)  \n",
    "     y=PSISs[i]['ks']\n",
    "     k_=k_count(y,1.)\n",
    "     for j in range(len(Chains)):\n",
    "            yj=y[j,:]\n",
    "            plot = plt.scatter(r_[:yj.shape[0]] , yj, c = yj, cmap = 'seismic', lw=4)\n",
    "            yallj=yj.flatten()\n",
    "            plotallj = plt.scatter(r_[:yallj.shape[0]] , yallj, c = yallj, cmap = 'seismic', lw=4)\n",
    "     plt.colorbar(plotallj)       \n",
    "     plt.hlines(y=1., xmin=0., xmax=yj.shape[0], linewidth=.5, color = 'skyblue', linestyle='--' )\n",
    "     text(-1,0.99, \"$k=1.$\", size=10, color = 'skyblue')\n",
    "     text(-1, 1.2,  r'$k > 1.:\\ \\ $'+str(k_)+r'$\\%$' , size=10, color = 'red')\n",
    "     ylim([-1,3.])\n",
    "     plt.margins(0.11, 0.1)\n",
    "     #norm_colorbar(y.flatten())\n",
    "     ylabel('ks')\n",
    "     xlabel('data points')\n",
    "     title(Models[i])\n",
    "\n",
    "show() "
   ]
  },
  {
   "cell_type": "code",
   "execution_count": null,
   "metadata": {},
   "outputs": [],
   "source": [
    "figure(figsize=(18, 14))\n",
    "\n",
    "for i in range(len(all_PsisFiles)):\n",
    "     subplot(len(all_PsisFiles)//2, 2, i + 1)  \n",
    "     y=PSISs[i]['ks']\n",
    "     yall=y.flatten()\n",
    "     plotall = plt.scatter(r_[:yall.shape[0]] , yall, c = yall, cmap = 'seismic', lw=4)\n",
    "     k_=k_count(y,1.)\n",
    "     for j in range(len(Chains)):\n",
    "            yj=y[j,:]\n",
    "            plot = plt.scatter(r_[:yj.shape[0]] , yj, c = yj, cmap = 'seismic', lw=4)\n",
    "     plt.hlines(y=1., xmin=0., xmax=yj.shape[0], linewidth=.5, color = 'skyblue', linestyle='--' )\n",
    "     text(-1,0.98, \"$k=1.$\", size=10, color = 'skyblue')\n",
    "     text(-1, 1.1,  r'$k > 1.:\\ \\ $'+str(k_)+r'$\\%$' , size=10, color = 'red')\n",
    "     ylim([-1,3.])\n",
    "     plt.margins(0.11, 0.1)\n",
    "     plt.colorbar(plotall)\n",
    "     ylabel('ks')\n",
    "     xlabel('data points* 4 chains')\n",
    "     title(Models[i])\n",
    "\n",
    "show() "
   ]
  },
  {
   "cell_type": "markdown",
   "metadata": {},
   "source": [
    "# Running automatic CV"
   ]
  },
  {
   "cell_type": "code",
   "execution_count": null,
   "metadata": {},
   "outputs": [],
   "source": [
    "tic=time.time()\n",
    "!./RunCV.sh \n",
    "print('total running time is: ', time.time()- tic, 'second')"
   ]
  },
  {
   "cell_type": "code",
   "execution_count": null,
   "metadata": {},
   "outputs": [],
   "source": [
    "Chains= ['chain 1', 'chain 2', 'chain 3','chain 4' ]\n",
    "\n",
    "PSIS_elements=['loo', 'loos', 'ks']"
   ]
  },
  {
   "cell_type": "code",
   "execution_count": null,
   "metadata": {},
   "outputs": [],
   "source": [
    "allStanFiles = sorted(glob.glob(cwd + \"/*.stan\"), key=numericalSort)\n",
    "\n",
    "Models= [x.rsplit('/')[-1].rsplit('.stan')[-2] for x in allStanFiles]"
   ]
  },
  {
   "cell_type": "code",
   "execution_count": null,
   "metadata": {},
   "outputs": [],
   "source": [
    "allReport_textFiles = sorted(glob.glob(cwd + \"/*.txt\"), key=numericalSort)\n",
    "\n",
    "all_IcFiles= [x.rsplit('/')[-1] for x in allReport_textFiles if 'Ic' in x]"
   ]
  },
  {
   "cell_type": "code",
   "execution_count": null,
   "metadata": {},
   "outputs": [],
   "source": [
    "allReport_txtFiles = sorted(glob.glob(cwd + \"/*.txt\"), key=numericalSort)\n",
    "\n",
    "all_PsisFiles= [x.rsplit('/')[-1] for x in allReport_txtFiles if  'psis' in x]"
   ]
  },
  {
   "cell_type": "code",
   "execution_count": null,
   "metadata": {},
   "outputs": [],
   "source": [
    "IC=[loadtxt(x, delimiter=',', usecols=(1) ).T for x in all_IcFiles]\n",
    "IC_err=[loadtxt(x, delimiter=',', usecols=(2) ).T for x in all_IcFiles]\n",
    "\n",
    "IC=asarray(IC)\n",
    "IC_err=asarray(IC_err)"
   ]
  },
  {
   "cell_type": "code",
   "execution_count": null,
   "metadata": {},
   "outputs": [],
   "source": [
    "elpd_waic=[IC[j][elpd_waic_idx]  for j in range(0,len(IC))]\n",
    "p_waic=[IC[j][p_waic_idx]  for j in range(0,len(IC))]\n",
    "waic=[IC[j][waic_idx]  for j in range(0,len(IC))]\n",
    "dic=[IC[j][dic_idx]  for j in range(0,len(IC))]\n",
    "aicc=[IC[j][aicc_idx]  for j in range(0,len(IC))]\n",
    "aic=[IC[j][aic_idx]  for j in range(0,len(IC))]\n",
    "bic=[IC[j][bic_idx]  for j in range(0,len(IC))]"
   ]
  },
  {
   "cell_type": "code",
   "execution_count": null,
   "metadata": {},
   "outputs": [],
   "source": [
    "elpd_waic_err=[IC_err[j][elpd_waic_idx]  for j in range(0,len(IC_err))]\n",
    "p_err=[IC_err[j][p_waic_idx]  for j in range(0,len(IC_err))]\n",
    "waic_err=[IC_err[j][waic_idx]  for j in range(0,len(IC_err))]\n",
    "dic_err=[IC_err[j][dic_idx]  for j in range(0,len(IC_err))]\n",
    "aicc_err=[IC_err[j][aicc_idx]  for j in range(0,len(IC_err))]\n",
    "aic_err=[IC_err[j][aic_idx]  for j in range(0,len(IC_err))]\n",
    "bic_err=[IC_err[j][bic_idx]  for j in range(0,len(IC_err))]"
   ]
  },
  {
   "cell_type": "code",
   "execution_count": null,
   "metadata": {},
   "outputs": [],
   "source": [
    "figure(figsize=(14, 14))\n",
    "\n",
    "subplot(221)\n",
    "y = waic\n",
    "y_err = waic_err\n",
    "bestmodel_barplot(y, y_err)\n",
    "ylabel(\"WAIC\")\n",
    "\n",
    "subplot(222)\n",
    "y = aicc\n",
    "y_err = aicc_err\n",
    "bestmodel_barplot(y, y_err)\n",
    "ylabel(\"AICc\")\n",
    "\n",
    "subplot(223)\n",
    "y = aic\n",
    "y_err = aic_err\n",
    "bestmodel_barplot(y, y_err)\n",
    "ylabel(\"AIC\")\n",
    "\n",
    "subplot(224)\n",
    "y = bic\n",
    "y_err = bic_err\n",
    "bestmodel_barplot(y, y_err)\n",
    "ylabel(\"BIC\")\n",
    "\n",
    "show()"
   ]
  },
  {
   "cell_type": "code",
   "execution_count": null,
   "metadata": {},
   "outputs": [],
   "source": [
    "PSISs=[pystan.read_rdump(psis_file) for psis_file in all_PsisFiles]\n",
    "PSISs=asarray(PSISs)"
   ]
  },
  {
   "cell_type": "code",
   "execution_count": null,
   "metadata": {},
   "outputs": [],
   "source": [
    "PSISs_dict = {}\n",
    "for i in range(len(all_PsisFiles)):\n",
    "    model = 'model' + str(i)\n",
    "    PSISs_dict[model] = pystan.read_rdump(all_PsisFiles[i])"
   ]
  },
  {
   "cell_type": "code",
   "execution_count": null,
   "metadata": {},
   "outputs": [],
   "source": [
    "Loo=[]\n",
    "Loo_err=[]\n",
    "for i in range(len(all_PsisFiles)):\n",
    "    Loo.append(PSISs[i]['loo'].mean())\n",
    "    Loo_err.append(PSISs[i]['loo'].std())"
   ]
  },
  {
   "cell_type": "code",
   "execution_count": null,
   "metadata": {},
   "outputs": [],
   "source": [
    "error_kw= dict(ecolor='b', capsize=6, elinewidth=1)\n",
    "error_kw_red=dict(ecolor='r', capsize=6, elinewidth=1)\n",
    "\n",
    "figure(figsize=(14, 14))\n",
    "\n",
    "subplot(221)\n",
    "y = elpd_waic\n",
    "y_err = elpd_waic_err\n",
    "bar(range(len(y)), y, yerr=y_err, color='b', alpha=0.8, error_kw=error_kw)\n",
    "bar(argmax(y), y[argmax(y)], yerr=y_err[argmax(y)], color='r',  error_kw=error_kw_red)\n",
    "xticks(r_[:len(Models)], [Models[i] for i in range(0,len(Models))],rotation=30);\n",
    "title(\"elpd_waic\")\n",
    "\n",
    "subplot(222)\n",
    "y = Loo\n",
    "y_err = Loo_err\n",
    "bar(range(len(y)), y, yerr=y_err, color='b', alpha=0.8, error_kw=error_kw)\n",
    "bar(argmax(y), y[argmax(y)], yerr=y_err[argmax(y)], color='r',  error_kw=error_kw_red)\n",
    "xticks(r_[:len(Models)], [Models[i] for i in range(0,len(Models))], rotation=30);\n",
    "title(\"PSIS-LOO\")\n",
    "show()"
   ]
  },
  {
   "cell_type": "code",
   "execution_count": null,
   "metadata": {},
   "outputs": [],
   "source": [
    "figure(figsize=(18, 14))\n",
    "\n",
    "for i in range(len(all_PsisFiles)):\n",
    "     subplot(len(all_PsisFiles)//2, 2, i + 1)  \n",
    "     y=PSISs[i]['ks']\n",
    "     k_=k_count(y,1.)\n",
    "     for j in range(len(Chains)):\n",
    "            yj=y[j,:]\n",
    "            plot = plt.scatter(r_[:yj.shape[0]] , yj, c = yj, cmap = 'seismic', lw=4)\n",
    "            yallj=yj.flatten()\n",
    "            plotallj = plt.scatter(r_[:yallj.shape[0]] , yallj, c = yallj, cmap = 'seismic', lw=4)\n",
    "     plt.colorbar(plotallj)       \n",
    "     plt.hlines(y=1., xmin=0., xmax=yj.shape[0], linewidth=.5, color = 'skyblue', linestyle='--' )\n",
    "     text(-1,0.99, \"$k=1.$\", size=10, color = 'skyblue')\n",
    "     text(-1, 1.2,  r'$k > 1.:\\ \\ $'+str(k_)+r'$\\%$' , size=10, color = 'red')\n",
    "     ylim([-1,3.])\n",
    "     plt.margins(0.11, 0.1)\n",
    "     #norm_colorbar(y.flatten())\n",
    "     ylabel('ks')\n",
    "     xlabel('data points')\n",
    "     title(Models[i])\n",
    "\n",
    "show() "
   ]
  },
  {
   "cell_type": "markdown",
   "metadata": {},
   "source": [
    "# Trash"
   ]
  },
  {
   "cell_type": "code",
   "execution_count": null,
   "metadata": {},
   "outputs": [],
   "source": [
    "# figure(figsize=(18, 14))\n",
    "\n",
    "# for i in range(len(all_PsisFiles)):\n",
    "#      subplot(len(all_PsisFiles)//2, 2, i + 1)  \n",
    "#      y=PSISs[i]['ks']\n",
    "#      yall=y.flatten()\n",
    "#      plotall = plt.scatter(r_[:yall.shape[0]] , yall, c = yall, cmap = 'seismic', lw=4)\n",
    "#      k_=k_count(y,1.)\n",
    "#      for j in range(len(Chains)):\n",
    "#             yj=y[j,:]\n",
    "#             plot = plt.scatter(r_[:yj.shape[0]] , yj, c = yj, cmap = 'seismic', lw=4)\n",
    "#      plt.hlines(y=1., xmin=0., xmax=yj.shape[0], linewidth=.5, color = 'skyblue', linestyle='--' )\n",
    "#      text(-1,0.98, \"$k=1.$\", size=10, color = 'skyblue')\n",
    "#      text(-1, 1.1,  r'$k > 1.:\\ \\ $'+str(k_)+r'$\\%$' , size=10, color = 'red')\n",
    "#      ylim([-1,3.])\n",
    "#      plt.margins(0.11, 0.1)\n",
    "#      plt.colorbar(plotall)\n",
    "#      ylabel('ks')\n",
    "#      xlabel('data points* 4 chains')\n",
    "#      title(Models[i])\n",
    "\n",
    "# show() "
   ]
  },
  {
   "cell_type": "code",
   "execution_count": null,
   "metadata": {},
   "outputs": [],
   "source": [
    "#Ic_1=loadtxt('model_poly1.stan_report_Ic.txt', delimiter=',', usecols=(1) ).T"
   ]
  },
  {
   "cell_type": "code",
   "execution_count": null,
   "metadata": {},
   "outputs": [],
   "source": [
    "# figure(figsize=(10, 20))\n",
    "\n",
    "# for i in range(len(IC)):\n",
    "#      subplot(len(IC), 1, i + 1)  \n",
    "#      bar(r_[:len(IC[i])], IC[i], color='b', alpha=0.8); \n",
    "#      errorbar(r_[:len(IC[i])], IC[i], yerr=IC_err[i], fmt='none', ecolor='b', capsize=6, elinewidth=1); \n",
    "#      xticks(r_[:len(IC_elements)], [IC_elements[j] for j in range(0,len(IC_elements))]);\n",
    "#      ylabel('IC')\n",
    "#      title(Models[i])\n",
    "    \n",
    "# show() "
   ]
  },
  {
   "cell_type": "code",
   "execution_count": null,
   "metadata": {},
   "outputs": [],
   "source": [
    "#Ic_1=loadtxt('model_poly1.stan_report_Ic.txt', delimiter=',', usecols=(1) ).T\n",
    "\n",
    "# figure(figsize=(10, 20))\n",
    "\n",
    "# for i in range(len(IC)):\n",
    "#      subplot(len(IC), 1, i + 1)  \n",
    "#      bar(r_[:len(IC[i])], IC[i], color='b', alpha=0.8); \n",
    "#      errorbar(r_[:len(IC[i])], IC[i], yerr=IC_err[i], fmt='none', ecolor='b', capsize=6, elinewidth=1); \n",
    "#      xticks(r_[:len(IC_elements)], [IC_elements[j] for j in range(0,len(IC_elements))]);\n",
    "#      ylabel('IC')\n",
    "#      title(Models[i])\n",
    "    \n",
    "# show() "
   ]
  },
  {
   "cell_type": "code",
   "execution_count": null,
   "metadata": {},
   "outputs": [],
   "source": [
    "# plt.figure(figsize=(12, 5))\n",
    "# y=PSISs[2]['ks']\n",
    "# k_=k_count(y,0.5)\n",
    "# print ('k values < 0.5 is: %d %%' % (k_, ))\n",
    "# print('Lead field values > %s ' % (100*1)+'%')\n",
    "# colors = cm.seismic(y / float(y.max()))\n",
    "# for i in range(len(Chains)):\n",
    "#     yi=y[i,:]\n",
    "#     #(markerLines, stemLines, baseLines)=plt.stem(r_[:yi.shape[0]]+1, yi, color = colors[i],linewidth=2, basefmt=\" \")\n",
    "#     #plt.setp(markerLines, color = colors[i], markersize = 6, markeredgecolor =colors[i], markeredgewidth = 3)\n",
    "#     #plt.setp(stemLines, color =colors[i], linewidth = 2, linestyle = 'dotted')\n",
    "#     plot = plt.scatter(r_[:yi.shape[0]] , yi, c = yi, cmap = 'seismic', lw=4)\n",
    "#     #plt.setp(baseLines, color = 'red', linewidth = 2, linestyle  = 'dotted')\n",
    "#     plt.hlines(y=0.5, xmin=0., xmax=yi.shape[0], linewidth=.5, color = 'skyblue', linestyle='--' )\n",
    "#     text(-1, 0.5, \"$k=0.5$\", size=10, color = 'skyblue')\n",
    "#     text(-1, .2,  r'$k < 0.5:\\ \\ $'+str(k_)+r'$\\%$' , size=10, color = 'blue')\n",
    "#     plt.margins(0.1, 0.1)\n",
    "# plt.colorbar(plot)\n",
    "# ylabel('ks')\n",
    "# xlabel('data points')\n",
    "# title(psis_file)\n",
    "#show()"
   ]
  },
  {
   "cell_type": "code",
   "execution_count": null,
   "metadata": {},
   "outputs": [],
   "source": [
    "#psis_dict = dict(load('model_poly1.stan_report_psis.R.npz'))\n",
    "#psis = np.load('model_poly1.stan_report_psis.R.npz')"
   ]
  },
  {
   "cell_type": "code",
   "execution_count": null,
   "metadata": {},
   "outputs": [],
   "source": [
    "# import pandas as pd\n",
    "# import csv\n",
    "# df = pd.read_csv('model_poly1.stan_report_psis.csv', names=['psis', 'value'], sep=',')\n",
    "# dicts = df.to_dict().values()\n",
    "# df\n",
    "# dicts = df.to_dict().values()\n",
    "# df['psis']\n",
    "# Loo=df.iloc[:,-1][1]\n",
    "# psis_model1 = [tuple(x) for x in df.values]"
   ]
  },
  {
   "cell_type": "code",
   "execution_count": null,
   "metadata": {},
   "outputs": [],
   "source": [
    "# with open('model_poly1.stan_report_psis.csv', 'r') as csvfile:\n",
    "#     readCSV = csv.reader(csvfile, delimiter=',', quotechar='\"')\n",
    "#     for row in readCSV:\n",
    "#         print(', '.join(row))\n",
    "\n",
    "# data_read=[]\n",
    "# with open('model_poly1.stan_report_psis.csv', 'r') as csvfile:\n",
    "#     readCSV = csv.reader(csvfile, delimiter=',', quotechar='\"')        \n",
    "#     #next(reader, None)  # skip the headers\n",
    "#     data_read = [row for row in readCSV]\n",
    "# print(data_read)\n",
    "\n",
    "\n",
    "\n",
    "# with open('model_poly1.stan_report_psis.csv', 'r') as my_file:\n",
    "#     reader = csv.reader(my_file, delimiter='\\t')\n",
    "#     my_list = list(reader)\n",
    "#     print(my_list)\n"
   ]
  },
  {
   "cell_type": "code",
   "execution_count": null,
   "metadata": {},
   "outputs": [],
   "source": [
    "#Ic_1=loadtxt('model_poly1.stan_report_Ic.txt', delimiter=',', usecols=(1) ).T\n",
    "\n",
    "# figure(figsize=(10, 20))\n",
    "\n",
    "# for i in range(len(IC)):\n",
    "#      subplot(len(IC), 1, i + 1)  \n",
    "#      bar(r_[:len(IC[i])], IC[i], color='b', alpha=0.8); \n",
    "#      errorbar(r_[:len(IC[i])], IC[i], yerr=IC_err[i], fmt='none', ecolor='b', capsize=6, elinewidth=1); \n",
    "#      xticks(r_[:len(IC_elements)], [IC_elements[j] for j in range(0,len(IC_elements))]);\n",
    "#      ylabel('IC')\n",
    "#      title(Models[i])\n",
    "    \n",
    "# show() # y = asarray(elpd_waic)\n",
    "# y_std = asarray(elpd_waic_std)\n",
    "\n",
    "# error_kw=dict(ecolor='k', capsize=6, elinewidth=1)\n",
    "# #bar(r_[:len(IC)], y, yerr=y_std, color='b', alpha=0.8, error_kw=error_kw)\n",
    "    "
   ]
  },
  {
   "cell_type": "code",
   "execution_count": null,
   "metadata": {},
   "outputs": [],
   "source": [
    "# for j in range(0,len(IC_elements)):\n",
    "#     if IC_elements=='elpd_waic':\n",
    "#        Best_model_elpd_waic=max(enumerate([IC[j][IC_elements]  for j in range(0,len(IC))]), key=itemgetter(1))[0]+1\n",
    "\n",
    "\n",
    "# figure(figsize=(12, 30))\n",
    "# for i in range(len(IC_elements)):\n",
    "#      subplot(len(IC_elements)//2+1, 2, i + 1)  \n",
    "#      y=[IC[j][i]  for j in range(0,len(IC))]\n",
    "#      y_std=[IC_std[j][i]  for j in range(0,len(IC))]\n",
    "#      error_kw=dict(ecolor='b', capsize=6, elinewidth=1)\n",
    "#      error_kw2=dict(ecolor='r', capsize=6, elinewidth=1)\n",
    "#      #barlist= bar(r_[:len(IC)], y, yerr=y_std, color='b', alpha=0.8, error_kw=error_kw)\n",
    "#      if i in (elpd_waic_idx, maxlike_idx):\n",
    "#          #barlist[argmax(y)].set_color('r')\n",
    "#          bar(r_[:len(IC)], y, yerr=y_std, color='b', alpha=0.8, error_kw=error_kw)\n",
    "#          barlist= bar(argmax(y), y[argmax(y)], yerr=y_std[argmax(y)], color='r',  error_kw=error_kw2)\n",
    "#      else:\n",
    "#          bar(r_[:len(IC)], y, yerr=y_std, color='b', alpha=0.8, error_kw=error_kw)\n",
    "#          barlist= bar(argmin(y), y[argmin(y)], yerr=y_std[argmin(y)], color='r',  error_kw=error_kw2)\n",
    "#         # barlist[argmin(y)].set_color('r')\n",
    "#      xticks(r_[:len(IC)], [Models[j]  for j in range(0,len(IC))]);\n",
    "#      ylabel('IC')\n",
    "#      title(IC_elements[i])\n",
    "# show() "
   ]
  }
 ],
 "metadata": {
  "kernelspec": {
   "display_name": "Python 3 (ipykernel)",
   "language": "python",
   "name": "python3"
  },
  "language_info": {
   "codemirror_mode": {
    "name": "ipython",
    "version": 3
   },
   "file_extension": ".py",
   "mimetype": "text/x-python",
   "name": "python",
   "nbconvert_exporter": "python",
   "pygments_lexer": "ipython3",
   "version": "3.8.12"
  }
 },
 "nbformat": 4,
 "nbformat_minor": 2
}
